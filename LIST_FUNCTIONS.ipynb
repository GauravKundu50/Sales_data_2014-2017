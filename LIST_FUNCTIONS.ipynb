{
 "cells": [
  {
   "cell_type": "markdown",
   "id": "25544939-2690-469c-9a5f-c4ab653a004c",
   "metadata": {},
   "source": [
    "# SORT ()\n",
    "\n",
    "* The 'Sort' function sort the list in Accending Order.\n",
    "\n",
    "* Example:-"
   ]
  },
  {
   "cell_type": "code",
   "execution_count": 9,
   "id": "d5a4323c-f4e4-478c-9f07-9d452d43546a",
   "metadata": {},
   "outputs": [],
   "source": [
    "l1 = [122,234,99,82,1,29,]\n",
    "\n",
    "l1.sort()"
   ]
  },
  {
   "cell_type": "code",
   "execution_count": 11,
   "id": "2a692508-93e4-45d3-ac45-96fc62da81a8",
   "metadata": {},
   "outputs": [
    {
     "name": "stdout",
     "output_type": "stream",
     "text": [
      "[1, 29, 82, 99, 122, 234]\n"
     ]
    }
   ],
   "source": [
    "print(l1)"
   ]
  },
  {
   "cell_type": "code",
   "execution_count": null,
   "id": "20289b5d-49da-4bf4-98de-b8386a8f43f2",
   "metadata": {},
   "outputs": [],
   "source": []
  },
  {
   "cell_type": "markdown",
   "id": "66b64859-e75c-44a5-8617-f1507ca2ed08",
   "metadata": {},
   "source": [
    "# TYPE ()\n",
    "\n",
    "* The 'Type' function returns the class type of an object.\n",
    "\n",
    "* Example:-"
   ]
  },
  {
   "cell_type": "code",
   "execution_count": 13,
   "id": "1b46876a-8a9a-480e-a4dd-1167833e3f11",
   "metadata": {},
   "outputs": [
    {
     "data": {
      "text/plain": [
       "list"
      ]
     },
     "execution_count": 13,
     "metadata": {},
     "output_type": "execute_result"
    }
   ],
   "source": [
    "l2 = [\"Mango\",173, \"Banana\",1.68, \"Cherry\",1.89]\n",
    "\n",
    "type(l2)"
   ]
  },
  {
   "cell_type": "code",
   "execution_count": null,
   "id": "09e42f6a-04d6-4d7c-b004-8cd106f79735",
   "metadata": {},
   "outputs": [],
   "source": []
  },
  {
   "cell_type": "markdown",
   "id": "65a86e9a-2303-4804-b874-2b1c60770ca5",
   "metadata": {},
   "source": [
    "# APPEND ()\n",
    "\n",
    "* The 'Append' function Add a single element to the list.\n",
    "\n",
    "* Example :-"
   ]
  },
  {
   "cell_type": "code",
   "execution_count": 16,
   "id": "50516820-45f0-4c43-9c9c-1b423fa9da72",
   "metadata": {},
   "outputs": [
    {
     "name": "stdout",
     "output_type": "stream",
     "text": [
      "['Cabage', 'Potato', 'Tomato', 'Pumkin']\n"
     ]
    }
   ],
   "source": [
    "l3 = ['Cabage','Potato','Tomato']\n",
    "\n",
    "l3.append('Pumkin')\n",
    "\n",
    "print(l3)"
   ]
  },
  {
   "cell_type": "code",
   "execution_count": null,
   "id": "bf140901-285c-4bd4-9bb5-47196ead2f08",
   "metadata": {},
   "outputs": [],
   "source": []
  },
  {
   "cell_type": "markdown",
   "id": "ad5a5951-f315-4fcf-a83e-aa29b45c63ad",
   "metadata": {},
   "source": [
    "# EXTEND ()\n",
    "\n",
    "* The 'Extend' function Adds multiple elements to a list.\n",
    "\n",
    "* Example:-"
   ]
  },
  {
   "cell_type": "code",
   "execution_count": 18,
   "id": "34398ee1-38c7-45a7-b956-ce0ed68a930b",
   "metadata": {},
   "outputs": [
    {
     "name": "stdout",
     "output_type": "stream",
     "text": [
      "[13, 43, 54, 65, 32, 67]\n"
     ]
    }
   ],
   "source": [
    "l4 = [13,43,54,65]\n",
    "\n",
    "l4.extend([32,67])\n",
    "\n",
    "print(l4)"
   ]
  },
  {
   "cell_type": "code",
   "execution_count": null,
   "id": "f8a0e721-0b2f-4520-8921-a5a79d4783bc",
   "metadata": {},
   "outputs": [],
   "source": []
  },
  {
   "cell_type": "markdown",
   "id": "4a16c08f-72de-402d-a2a8-8d76a8f8f974",
   "metadata": {},
   "source": [
    "# INDEX ()\n",
    "\n",
    "* The 'Index' function returns the first appearance of the specified value.\n",
    "\n",
    "* Example:-"
   ]
  },
  {
   "cell_type": "code",
   "execution_count": 28,
   "id": "e14fb5dd-d1dc-43cb-be7f-a14b5dbb1def",
   "metadata": {},
   "outputs": [
    {
     "data": {
      "text/plain": [
       "6"
      ]
     },
     "execution_count": 28,
     "metadata": {},
     "output_type": "execute_result"
    }
   ],
   "source": [
    "l5 = ['January', 'February', 'March', 'April', 'May', 'Jun', 'July', 'August']\n",
    "\n",
    "l5.index('July')"
   ]
  },
  {
   "cell_type": "code",
   "execution_count": null,
   "id": "6b7d4bef-5337-43ec-bf08-c63180bee6ae",
   "metadata": {},
   "outputs": [],
   "source": []
  },
  {
   "cell_type": "markdown",
   "id": "d1ed0e40-83b5-49b0-9bac-95e1ec861909",
   "metadata": {},
   "source": [
    "# MAX ()\n",
    "\n",
    "* The 'Max' functions returns an item from the list with max value.\n",
    "\n",
    "* Example:-"
   ]
  },
  {
   "cell_type": "code",
   "execution_count": 36,
   "id": "a007dba0-8eb9-4e87-8aea-217103d5ae62",
   "metadata": {},
   "outputs": [
    {
     "name": "stdout",
     "output_type": "stream",
     "text": [
      "710\n"
     ]
    }
   ],
   "source": [
    "l6 = [189, 370, 710, 320, 444, 111]\n",
    "\n",
    "l6 = max(l6)\n",
    "\n",
    "print(l6)"
   ]
  },
  {
   "cell_type": "code",
   "execution_count": null,
   "id": "2878e3b0-094f-4a10-b6bf-c0fff98b9ff5",
   "metadata": {},
   "outputs": [],
   "source": []
  },
  {
   "cell_type": "markdown",
   "id": "93940554-aafb-47e1-8dcd-78b50f0c3c71",
   "metadata": {},
   "source": [
    "# MIN ()\n",
    "\n",
    "* The 'Min' function returns an item from the list with min value.\n",
    "\n",
    "* Example:-"
   ]
  },
  {
   "cell_type": "code",
   "execution_count": 38,
   "id": "fa250e71-56ed-438b-a35f-f91e0c63a7e5",
   "metadata": {},
   "outputs": [
    {
     "name": "stdout",
     "output_type": "stream",
     "text": [
      "39\n"
     ]
    }
   ],
   "source": [
    "l7 = [123, 344, 431, 56, 373, 333, 39, 52, 888, 910]\n",
    "\n",
    "l7 = min(l7)\n",
    "\n",
    "print(l7)"
   ]
  },
  {
   "cell_type": "code",
   "execution_count": null,
   "id": "c1f98617-dcbd-47f0-a5fc-0dccffbb141d",
   "metadata": {},
   "outputs": [],
   "source": []
  },
  {
   "cell_type": "markdown",
   "id": "060fa874-8fe5-4ef2-a888-f6b14d57ac45",
   "metadata": {},
   "source": [
    "# Len ()\n",
    "\n",
    "* The 'Len' function is gives the total length of the list.\n",
    "\n",
    "* Example:-"
   ]
  },
  {
   "cell_type": "code",
   "execution_count": null,
   "id": "896d52ef-3793-483a-950d-5eef35081423",
   "metadata": {},
   "outputs": [],
   "source": []
  },
  {
   "cell_type": "code",
   "execution_count": 44,
   "id": "ec5ff637-3deb-4593-9ebe-5a832ea7a9cc",
   "metadata": {},
   "outputs": [
    {
     "name": "stdout",
     "output_type": "stream",
     "text": [
      "5\n"
     ]
    }
   ],
   "source": [
    "l8 = ['apple','banana','mango','graphs','lemon']\n",
    "\n",
    "l8 = len(l8)\n",
    "\n",
    "print(l8)"
   ]
  },
  {
   "cell_type": "code",
   "execution_count": null,
   "id": "46bf3e93-f2e9-4176-9233-f575fd916216",
   "metadata": {},
   "outputs": [],
   "source": []
  },
  {
   "cell_type": "markdown",
   "id": "bd590ed9-19dd-4f98-ba50-a34265ad51cb",
   "metadata": {},
   "source": [
    "# List ()\n",
    "\n",
    "* The 'List' function convert a touple into the list.\n",
    "\n",
    "* Example:-"
   ]
  },
  {
   "cell_type": "code",
   "execution_count": 46,
   "id": "1770e546-f300-43be-ac78-de277a233009",
   "metadata": {},
   "outputs": [
    {
     "name": "stdout",
     "output_type": "stream",
     "text": [
      "[54, 44, 32, 21, 56, 7, 8, 99, 109]\n"
     ]
    }
   ],
   "source": [
    "l9 = (54,44,32,21,56,7,8,99,109)\n",
    "\n",
    "l9 = list(l9)\n",
    "\n",
    "print(l9)"
   ]
  },
  {
   "cell_type": "code",
   "execution_count": null,
   "id": "e2640011-e20d-4d20-b15e-52108c2b2333",
   "metadata": {},
   "outputs": [],
   "source": []
  },
  {
   "cell_type": "markdown",
   "id": "774db8c2-c430-47b1-b74d-44244239ee0f",
   "metadata": {},
   "source": [
    "# Remove ()\n",
    "\n",
    "* The 'Remove' function remove a index from the list.\n",
    "\n",
    "* Example:-"
   ]
  },
  {
   "cell_type": "code",
   "execution_count": 61,
   "id": "7290b5f5-29cc-40f0-81e9-676dc72d39f9",
   "metadata": {},
   "outputs": [
    {
     "name": "stdout",
     "output_type": "stream",
     "text": [
      "[12, 45, 66, 77, 55, 33, 24, 66]\n"
     ]
    }
   ],
   "source": [
    "l10 = [12,23,45,66,77,55,33,24,66]\n",
    "\n",
    "l10.remove(23)\n",
    "\n",
    "print(l10)"
   ]
  },
  {
   "cell_type": "code",
   "execution_count": null,
   "id": "bc755369-0a28-4444-9fe8-2c03cae974b6",
   "metadata": {},
   "outputs": [],
   "source": []
  }
 ],
 "metadata": {
  "kernelspec": {
   "display_name": "Python 3 (ipykernel)",
   "language": "python",
   "name": "python3"
  },
  "language_info": {
   "codemirror_mode": {
    "name": "ipython",
    "version": 3
   },
   "file_extension": ".py",
   "mimetype": "text/x-python",
   "name": "python",
   "nbconvert_exporter": "python",
   "pygments_lexer": "ipython3",
   "version": "3.11.7"
  }
 },
 "nbformat": 4,
 "nbformat_minor": 5
}
